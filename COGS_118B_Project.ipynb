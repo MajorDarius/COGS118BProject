{
  "cells": [
    {
      "cell_type": "code",
      "execution_count": null,
      "metadata": {
        "id": "xGymEethFxin"
      },
      "outputs": [],
      "source": [
        "import numpy as np\n",
        "import tensorflow as tf\n",
        "from tensorflow.keras.datasets import mnist\n",
        "import matplotlib.pyplot as plt\n",
        "from tqdm import tqdm"
      ]
    },
    {
      "cell_type": "code",
      "execution_count": null,
      "metadata": {
        "id": "NoDRscrhF03o"
      },
      "outputs": [],
      "source": [
        "(train_set, train_label), (test_set, test_label) = mnist.load_data()\n",
        "train_set, train_label = train_set[:20000], train_label[:20000]"
      ]
    },
    {
      "cell_type": "code",
      "execution_count": null,
      "metadata": {
        "colab": {
          "base_uri": "https://localhost:8080/"
        },
        "id": "gbUvLukPF3dY",
        "outputId": "9c6fcea0-a7e0-4ba3-9208-a55e8bb9dfd1"
      },
      "outputs": [
        {
          "output_type": "execute_result",
          "data": {
            "text/plain": [
              "(20000, 28, 28)"
            ]
          },
          "metadata": {},
          "execution_count": 58
        }
      ],
      "source": [
        "train_set.shape"
      ]
    },
    {
      "cell_type": "code",
      "execution_count": null,
      "metadata": {
        "colab": {
          "base_uri": "https://localhost:8080/",
          "height": 282
        },
        "id": "hNO1LILAF6m_",
        "outputId": "5c849cd0-64b6-4bf5-cb4b-cda7eb479a66"
      },
      "outputs": [
        {
          "output_type": "execute_result",
          "data": {
            "text/plain": [
              "<matplotlib.image.AxesImage at 0x7fcbfff5e8e0>"
            ]
          },
          "metadata": {},
          "execution_count": 59
        },
        {
          "output_type": "display_data",
          "data": {
            "text/plain": [
              "<Figure size 432x288 with 1 Axes>"
            ],
            "image/png": "[encoded data removed]"
          },
          "metadata": {
            "needs_background": "light"
          }
        }
      ],
      "source": [
        "plt.imshow(train_set[5][:,:], cmap = plt.cm.binary)"
      ]
    },
    {
      "cell_type": "code",
      "execution_count": null,
      "metadata": {
        "id": "C0NE604DF80j"
      },
      "outputs": [],
      "source": [
        "#Reshape the images as a 784d vector\n",
        "train_set = train_set.reshape(20000,-1)/255"
      ]
    },
    {
      "cell_type": "code",
      "execution_count": null,
      "metadata": {
        "id": "H7boThP1F9tJ"
      },
      "outputs": [],
      "source": [
        "#Binarising the data for use in Bernoulli\n",
        "train_set[train_set < 0.5] = 0\n",
        "train_set[train_set > 0.5] = 1"
      ]
    },
    {
      "cell_type": "code",
      "execution_count": null,
      "metadata": {
        "colab": {
          "base_uri": "https://localhost:8080/"
        },
        "id": "2OmPFb9zGAgf",
        "outputId": "a3a43816-a99b-4578-fc3b-cc30e83c549f"
      },
      "outputs": [
        {
          "output_type": "execute_result",
          "data": {
            "text/plain": [
              "(20000, 784)"
            ]
          },
          "metadata": {},
          "execution_count": 62
        }
      ],
      "source": [
        "train_set.shape"
      ]
    },
    {
      "cell_type": "markdown",
      "metadata": {
        "id": "e5KFS7tPGHUS"
      },
      "source": [
        "##Section 1: Implementing a Multi Dimensional Bernoulli Random Variable\n"
      ]
    },
    {
      "cell_type": "markdown",
      "source": [
        "MLE Estimate of theta for MNIST"
      ],
      "metadata": {
        "id": "SYqxuNsnlPTh"
      }
    },
    {
      "cell_type": "code",
      "execution_count": null,
      "metadata": {
        "colab": {
          "base_uri": "https://localhost:8080/"
        },
        "id": "sbjijHrvGB9I",
        "outputId": "0cbabec5-f23f-424a-dc0b-da9b6ecbcee2"
      },
      "outputs": [
        {
          "output_type": "execute_result",
          "data": {
            "text/plain": [
              "(1, 784)"
            ]
          },
          "metadata": {},
          "execution_count": 48
        }
      ],
      "source": [
        "theta_MLE = np.mean(train_set, axis = 0, keepdims = True)\n",
        "theta_MLE.shape"
      ]
    },
    {
      "cell_type": "markdown",
      "source": [
        "Visualisation of the MLE Estimate"
      ],
      "metadata": {
        "id": "RD2b6OwWlh_9"
      }
    },
    {
      "cell_type": "code",
      "execution_count": null,
      "metadata": {
        "colab": {
          "base_uri": "https://localhost:8080/",
          "height": 283
        },
        "id": "Mcbmaa4NGDw7",
        "outputId": "a33853ef-d9ac-4c1b-be09-ae6182aa386b"
      },
      "outputs": [
        {
          "output_type": "execute_result",
          "data": {
            "text/plain": [
              "<matplotlib.image.AxesImage at 0x7f31cd95f1c0>"
            ]
          },
          "metadata": {},
          "execution_count": 50
        },
        {
          "output_type": "display_data",
          "data": {
            "text/plain": [
              "<Figure size 432x288 with 1 Axes>"
            ],
            "image/png": "[encoded data removed]"
          },
          "metadata": {
            "needs_background": "light"
          }
        }
      ],
      "source": [
        "theta_MLE = theta_MLE.reshape(28,28)*255\n",
        "plt.imshow(theta_MLE, cmap = plt.cm.binary)"
      ]
    },
    {
      "cell_type": "markdown",
      "metadata": {
        "id": "08Sp8UF2GUiM"
      },
      "source": [
        "##Section 2: Implementing KMeans"
      ]
    },
    {
      "cell_type": "markdown",
      "source": [
        "Function to calculate euclidean distances"
      ],
      "metadata": {
        "id": "sfw7T7R4lm-r"
      }
    },
    {
      "cell_type": "code",
      "execution_count": null,
      "metadata": {
        "id": "DuKWedFEGX5H"
      },
      "outputs": [],
      "source": [
        "def calcSqDistances(X, Kmus):\n",
        "    return ((-2 * X.dot(Kmus.T) + np.sum(np.multiply(Kmus,Kmus), axis=1).T).T + np.sum(np.multiply(X,X), axis=1)).T"
      ]
    },
    {
      "cell_type": "markdown",
      "source": [
        "Function to determine Rnk (cluster membership)"
      ],
      "metadata": {
        "id": "3_J4RCZ_lrmI"
      }
    },
    {
      "cell_type": "code",
      "execution_count": null,
      "metadata": {
        "id": "FMgySMJKGc6w"
      },
      "outputs": [],
      "source": [
        "def determineRnk(sqDmat):\n",
        "    m = np.argmin(sqDmat, axis=1)\n",
        "    return np.eye(sqDmat.shape[1])[m]"
      ]
    },
    {
      "cell_type": "markdown",
      "source": [
        "Function to recalculate Mus"
      ],
      "metadata": {
        "id": "b6GvZ8Eolw08"
      }
    },
    {
      "cell_type": "code",
      "execution_count": null,
      "metadata": {
        "id": "mCT1blnbGjtG"
      },
      "outputs": [],
      "source": [
        "def recalcMus(X, Rnk):\n",
        "    return (np.divide(X.T.dot(Rnk), np.sum(Rnk, axis=0))).T"
      ]
    },
    {
      "cell_type": "markdown",
      "source": [
        "Function that combines all above code to run Kmeans and outputs the Kmus"
      ],
      "metadata": {
        "id": "mmlEu5PWlzwA"
      }
    },
    {
      "cell_type": "code",
      "execution_count": null,
      "metadata": {
        "id": "n_r2nzroGnee"
      },
      "outputs": [],
      "source": [
        "def runKMeans(K):\n",
        "    X = train_set\n",
        "    N = 20000\n",
        "    D = 784\n",
        "\n",
        "    Kmus = np.zeros((K,D))\n",
        "\n",
        "    rndinds = np.random.permutation(N)\n",
        "    Kmus = X[rndinds[:K]];\n",
        "\n",
        "    maxiters = 500;\n",
        "\n",
        "    for iter in range (maxiters):\n",
        "\n",
        "        sqDmat = calcSqDistances(X,Kmus);\n",
        "\n",
        "        Rnk = determineRnk(sqDmat)\n",
        "\n",
        "        KmusOld = Kmus\n",
        "\n",
        "        Kmus = recalcMus(X, Rnk)\n",
        "\n",
        "        if sum(abs(KmusOld.flatten() - Kmus.flatten())) < 1e-6:\n",
        "            break\n",
        "        return Kmus"
      ]
    },
    {
      "cell_type": "code",
      "execution_count": null,
      "metadata": {
        "id": "WiH_t8-nGvFb"
      },
      "outputs": [],
      "source": [
        "Kmus_10 = runKMeans(10)\n",
        "Kmus_20 = runKMeans(20)\n"
      ]
    },
    {
      "cell_type": "code",
      "execution_count": null,
      "metadata": {
        "id": "nQy0P4XiHECD"
      },
      "outputs": [],
      "source": [
        "def get_cluster_plot(Kmus):\n",
        "    '''\n",
        "    : get a plot of what different clusters represent\n",
        "    : takes as input the cluster location matrix\n",
        "    '''\n",
        "    fig,axs = plt.subplots(2,5, figsize = (15,9))\n",
        "    for i in range(len(Kmus)):\n",
        "        cluster = Kmus[i].reshape(28,-1) * 255\n",
        "        axs[i//5][i%5].imshow(cluster, cmap = plt.cm.binary)\n",
        "        axs[i//5][i%5].set_title(f'Cluster {i + 1}')"
      ]
    },
    {
      "cell_type": "code",
      "execution_count": null,
      "metadata": {
        "colab": {
          "base_uri": "https://localhost:8080/",
          "height": 354
        },
        "id": "oxCLfJI8HI5i",
        "outputId": "4dd8154b-97a3-44f2-9b4a-059c8de6ac19"
      },
      "outputs": [
        {
          "output_type": "display_data",
          "data": {
            "text/plain": [
              "<Figure size 1080x648 with 10 Axes>"
            ],
            "image/png": "[encoded data removed]"
          },
          "metadata": {
            "needs_background": "light"
          }
        }
      ],
      "source": [
        "get_cluster_plot(Kmus_10) #Get cluster representation for K = 10 clusters"
      ]
    },
    {
      "cell_type": "code",
      "execution_count": null,
      "metadata": {
        "colab": {
          "base_uri": "https://localhost:8080/",
          "height": 630
        },
        "id": "6eesPUw3PJPX",
        "outputId": "79c2197f-044f-40e0-e98c-517f82164564"
      },
      "outputs": [
        {
          "output_type": "error",
          "ename": "IndexError",
          "evalue": "ignored",
          "traceback": [
            "\u001b[0;31m---------------------------------------------------------------------------\u001b[0m",
            "\u001b[0;31mIndexError\u001b[0m                                Traceback (most recent call last)",
            "\u001b[0;32m<ipython-input-57-3917a8098870>\u001b[0m in \u001b[0;36m<module>\u001b[0;34m\u001b[0m\n\u001b[0;32m----> 1\u001b[0;31m \u001b[0mget_cluster_plot\u001b[0m\u001b[0;34m(\u001b[0m\u001b[0mKmus_20\u001b[0m\u001b[0;34m)\u001b[0m \u001b[0;31m#Get cluster representation for K = 20 clusters\u001b[0m\u001b[0;34m\u001b[0m\u001b[0;34m\u001b[0m\u001b[0m\n\u001b[0m",
            "\u001b[0;32m<ipython-input-55-1123d48b072b>\u001b[0m in \u001b[0;36mget_cluster_plot\u001b[0;34m(Kmus)\u001b[0m\n\u001b[1;32m      7\u001b[0m     \u001b[0;32mfor\u001b[0m \u001b[0mi\u001b[0m \u001b[0;32min\u001b[0m \u001b[0mrange\u001b[0m\u001b[0;34m(\u001b[0m\u001b[0mlen\u001b[0m\u001b[0;34m(\u001b[0m\u001b[0mKmus\u001b[0m\u001b[0;34m)\u001b[0m\u001b[0;34m)\u001b[0m\u001b[0;34m:\u001b[0m\u001b[0;34m\u001b[0m\u001b[0;34m\u001b[0m\u001b[0m\n\u001b[1;32m      8\u001b[0m         \u001b[0mcluster\u001b[0m \u001b[0;34m=\u001b[0m \u001b[0mKmus\u001b[0m\u001b[0;34m[\u001b[0m\u001b[0mi\u001b[0m\u001b[0;34m]\u001b[0m\u001b[0;34m.\u001b[0m\u001b[0mreshape\u001b[0m\u001b[0;34m(\u001b[0m\u001b[0;36m28\u001b[0m\u001b[0;34m,\u001b[0m\u001b[0;34m-\u001b[0m\u001b[0;36m1\u001b[0m\u001b[0;34m)\u001b[0m \u001b[0;34m*\u001b[0m \u001b[0;36m255\u001b[0m\u001b[0;34m\u001b[0m\u001b[0;34m\u001b[0m\u001b[0m\n\u001b[0;32m----> 9\u001b[0;31m         \u001b[0maxs\u001b[0m\u001b[0;34m[\u001b[0m\u001b[0mi\u001b[0m\u001b[0;34m//\u001b[0m\u001b[0;36m5\u001b[0m\u001b[0;34m]\u001b[0m\u001b[0;34m[\u001b[0m\u001b[0mi\u001b[0m\u001b[0;34m%\u001b[0m\u001b[0;36m5\u001b[0m\u001b[0;34m]\u001b[0m\u001b[0;34m.\u001b[0m\u001b[0mimshow\u001b[0m\u001b[0;34m(\u001b[0m\u001b[0mcluster\u001b[0m\u001b[0;34m,\u001b[0m \u001b[0mcmap\u001b[0m \u001b[0;34m=\u001b[0m \u001b[0mplt\u001b[0m\u001b[0;34m.\u001b[0m\u001b[0mcm\u001b[0m\u001b[0;34m.\u001b[0m\u001b[0mbinary\u001b[0m\u001b[0;34m)\u001b[0m\u001b[0;34m\u001b[0m\u001b[0;34m\u001b[0m\u001b[0m\n\u001b[0m\u001b[1;32m     10\u001b[0m         \u001b[0maxs\u001b[0m\u001b[0;34m[\u001b[0m\u001b[0mi\u001b[0m\u001b[0;34m//\u001b[0m\u001b[0;36m5\u001b[0m\u001b[0;34m]\u001b[0m\u001b[0;34m[\u001b[0m\u001b[0mi\u001b[0m\u001b[0;34m%\u001b[0m\u001b[0;36m5\u001b[0m\u001b[0;34m]\u001b[0m\u001b[0;34m.\u001b[0m\u001b[0mset_title\u001b[0m\u001b[0;34m(\u001b[0m\u001b[0;34mf'Cluster {i + 1}'\u001b[0m\u001b[0;34m)\u001b[0m\u001b[0;34m\u001b[0m\u001b[0;34m\u001b[0m\u001b[0m\n",
            "\u001b[0;31mIndexError\u001b[0m: index 2 is out of bounds for axis 0 with size 2"
          ]
        },
        {
          "output_type": "display_data",
          "data": {
            "text/plain": [
              "<Figure size 1080x648 with 10 Axes>"
            ],
            "image/png": "[encoded data removed]"
          },
          "metadata": {
            "needs_background": "light"
          }
        }
      ],
      "source": [
        "get_cluster_plot(Kmus_20) #Get cluster representation for K = 20 clusters"
      ]
    },
    {
      "cell_type": "markdown",
      "metadata": {
        "id": "KvsRwrZfLR-Z"
      },
      "source": [
        "\n",
        "\n",
        "```\n",
        "# This is formatted as code\n",
        "```\n",
        "\n",
        "##Section 3: Implementation of a Mixture of Bermoulli Distributions\n"
      ]
    },
    {
      "cell_type": "code",
      "execution_count": null,
      "metadata": {
        "id": "CEawmw0cINi5"
      },
      "outputs": [],
      "source": [
        "def train_EM_MOB(x , pi, theta, K = 10):\n",
        "    '''\n",
        "    :input arguments ---> data set, mixture probabilities, initial cluster locations and number of mixtures\n",
        "    : Implement the EM algorithm for Mixture of Bernoulli random variables\n",
        "    '''\n",
        "    N = len(x)\n",
        "    #Do Up to 100 iterations of EM to set a bound\n",
        "    max_iters = 500\n",
        "    for iter in tqdm(range(max_iters)):\n",
        "        #Create matrix to store the gamma of each cluster\n",
        "        yik = np.zeros((N,K))\n",
        "        #Go through each cluster\n",
        "        for j in range(K):\n",
        "            #Compute E step for all clusters\n",
        "            matrix1 = theta[j]**x\n",
        "            matrix2 = (1 - theta[j])**(1 - x)\n",
        "            matrix = matrix1 * matrix2\n",
        "            #Calculate the value for one cluster\n",
        "            yik[:,j] = np.prod(matrix, axis = 1) * pi[j]\n",
        "        #Calculate M step using yik from E step\n",
        "        yik = np.divide(yik, np.sum(yik, axis = 1, keepdims = True))\n",
        "        #Find new parameters for the next step of EM\n",
        "        pi_new = np.sum(yik, axis = 0)/N\n",
        "        theta_new = np.divide(yik.T @ x, np.sum(yik, axis = 0, keepdims = True).T)\n",
        "        #Terminate if there is no major changes\n",
        "        if np.linalg.norm(theta_new - theta) < 0.001:\n",
        "            break\n",
        "        pi,theta = pi_new, theta_new\n",
        "    #Return the pi and theta after the algorithm finished in order to plot each cluster\n",
        "    return pi_new, theta_new\n"
      ]
    },
    {
      "cell_type": "code",
      "execution_count": null,
      "metadata": {
        "colab": {
          "base_uri": "https://localhost:8080/"
        },
        "id": "kE1to2uWI2BH",
        "outputId": "c57d0cf8-0da1-4e2a-9998-54530b642995"
      },
      "outputs": [
        {
          "output_type": "stream",
          "name": "stderr",
          "text": [
            " 11%|█         | 56/500 [00:16<02:08,  3.45it/s]\n"
          ]
        }
      ],
      "source": [
        "train = train_set\n",
        "#Initialise the P(z = k) = $$\\pi_k$$\n",
        "pi = np.random.randint(1,3,10)\n",
        "pi = pi/np.sum(pi)\n",
        "#Initialise theta\n",
        "theta = np.random.randint(2,5,(10,784))\n",
        "theta = 1/theta\n",
        "#First try out with a small dataset\n",
        "pi_new, theta_new = train_EM_MOB(train[:1000] , pi , theta)\n",
        "#After ensuring it works as expected, run on full dataset\n",
        "#pi_new, theta_new = train_EM_MOB(train , pi, theta)"
      ]
    },
    {
      "cell_type": "code",
      "execution_count": null,
      "metadata": {
        "colab": {
          "base_uri": "https://localhost:8080/",
          "height": 475
        },
        "id": "NjzrWOOAJJAS",
        "outputId": "c36c53ca-3bfe-4b06-9d36-7838b804b551"
      },
      "outputs": [
        {
          "output_type": "display_data",
          "data": {
            "text/plain": [
              "<Figure size 1080x648 with 10 Axes>"
            ],
            "image/png": "[encoded data removed]"
          },
          "metadata": {
            "needs_background": "light"
          }
        }
      ],
      "source": [
        "get_cluster_plot(theta_new) #Get the cluster representation for a mixture model with 10 mixtures"
      ]
    },
    {
      "cell_type": "markdown",
      "metadata": {
        "id": "bnaHT9e0lgwT"
      },
      "source": [
        "## Section 4: Implementation of PCA"
      ]
    },
    {
      "cell_type": "markdown",
      "metadata": {
        "id": "ywi7JjogIEeG"
      },
      "source": [
        "Define all the needed functions. Notice that viewcolumn is reshaping as 28x28 instead of 60x60 like it was in HW4, that's because these images are 28x28 pixels."
      ]
    },
    {
      "cell_type": "code",
      "execution_count": null,
      "metadata": {
        "id": "HOqmkWF1ljuy"
      },
      "outputs": [],
      "source": [
        "def eigsort(V, eigvals):\n",
        "\n",
        "    # Sort the eigenvalues from largest to smallest. Store the sorted\n",
        "    # eigenvalues in the column vector lambd.\n",
        "    lohival = np.sort(eigvals)\n",
        "    lohiindex = np.argsort(eigvals)\n",
        "    lambd = np.flip(lohival)\n",
        "    index = np.flip(lohiindex)\n",
        "    Dsort = np.diag(lambd)\n",
        "\n",
        "    # Sort eigenvectors to correspond to the ordered eigenvalues. Store sorted\n",
        "    # eigenvectors as columns of the matrix vsort.\n",
        "    M = np.size(lambd)\n",
        "    Vsort = np.zeros((M, M))\n",
        "    for i in range(M):\n",
        "        Vsort[:,i] = V[:,index[i]]\n",
        "    return Vsort, Dsort\n",
        "\n",
        "def viewcolumn(columnvector):\n",
        "    plt.imshow(columnvector.reshape([28, 28], order='F'), cmap=plt.get_cmap('gray'))\n",
        "\n",
        "\n",
        "def normc(Mat):\n",
        "    return normalize(Mat, norm='l2', axis=0)"
      ]
    },
    {
      "cell_type": "markdown",
      "metadata": {
        "id": "lglCsMjjIZ0C"
      },
      "source": [
        "Cut down the dataset from 20,000 images to just 400 to make PCA run faster."
      ]
    },
    {
      "cell_type": "code",
      "execution_count": null,
      "metadata": {
        "colab": {
          "base_uri": "https://localhost:8080/",
          "height": 282
        },
        "id": "377rqvmylm-M",
        "outputId": "ecba5357-6584-478d-b64e-cfd84f3b71c2"
      },
      "outputs": [
        {
          "output_type": "execute_result",
          "data": {
            "text/plain": [
              "(400, 784)"
            ]
          },
          "metadata": {},
          "execution_count": 64
        },
        {
          "output_type": "display_data",
          "data": {
            "text/plain": [
              "<Figure size 432x288 with 1 Axes>"
            ],
            "image/png": "[encoded data removed]"
          },
          "metadata": {
            "needs_background": "light"
          }
        }
      ],
      "source": [
        "viewcolumn(train_set[4])\n",
        "tr_set, tr_label = train_set[:400], train_label[:400]\n",
        "tr_set.shape"
      ]
    },
    {
      "cell_type": "code",
      "execution_count": null,
      "metadata": {
        "id": "FtgoHvVAlqV2"
      },
      "outputs": [],
      "source": [
        "mnist = tr_set.reshape(400, -1)"
      ]
    },
    {
      "cell_type": "code",
      "execution_count": null,
      "metadata": {
        "colab": {
          "base_uri": "https://localhost:8080/"
        },
        "id": "BhR2yS-9ls39",
        "outputId": "8f5a18a7-2772-434d-9638-78f2df1f3301"
      },
      "outputs": [
        {
          "output_type": "execute_result",
          "data": {
            "text/plain": [
              "(784, 400)"
            ]
          },
          "metadata": {},
          "execution_count": 66
        }
      ],
      "source": [
        "mnist = mnist.T\n",
        "mnist.shape"
      ]
    },
    {
      "cell_type": "markdown",
      "metadata": {
        "id": "ngEkPwS7Io1R"
      },
      "source": [
        "Calculate the mean number from the 400 images."
      ]
    },
    {
      "cell_type": "code",
      "execution_count": null,
      "metadata": {
        "colab": {
          "base_uri": "https://localhost:8080/",
          "height": 282
        },
        "id": "2x_vyAEZluog",
        "outputId": "00063631-e298-456f-d894-9faced127aea"
      },
      "outputs": [
        {
          "output_type": "execute_result",
          "data": {
            "text/plain": [
              "(784, 1)"
            ]
          },
          "metadata": {},
          "execution_count": 67
        },
        {
          "output_type": "display_data",
          "data": {
            "text/plain": [
              "<Figure size 432x288 with 1 Axes>"
            ],
            "image/png": "[encoded data removed]"
          },
          "metadata": {
            "needs_background": "light"
          }
        }
      ],
      "source": [
        "meannum = np.mean(mnist, axis = 1, keepdims = True)\n",
        "viewcolumn(meannum)\n",
        "meannum.shape"
      ]
    },
    {
      "cell_type": "markdown",
      "metadata": {
        "id": "4VxVRZVqIre0"
      },
      "source": [
        "Mean-subtract the data"
      ]
    },
    {
      "cell_type": "code",
      "execution_count": null,
      "metadata": {
        "colab": {
          "base_uri": "https://localhost:8080/"
        },
        "id": "AXDlA46plwp8",
        "outputId": "feba2d47-a44d-44cb-87bc-359355c08cb9"
      },
      "outputs": [
        {
          "output_type": "execute_result",
          "data": {
            "text/plain": [
              "(784, 400)"
            ]
          },
          "metadata": {},
          "execution_count": 68
        }
      ],
      "source": [
        "A = mnist - meannum\n",
        "A.shape"
      ]
    },
    {
      "cell_type": "markdown",
      "metadata": {
        "id": "716IbKp7IsxJ"
      },
      "source": [
        "Calculate the eigenvectors from the covariance matrix."
      ]
    },
    {
      "cell_type": "code",
      "execution_count": null,
      "metadata": {
        "id": "5ulIj-YVlylP"
      },
      "outputs": [],
      "source": [
        "eigvals, Vold = np.linalg.eig(A.T.dot(A))"
      ]
    },
    {
      "cell_type": "markdown",
      "metadata": {
        "id": "Rvm_u6J3Iw6L"
      },
      "source": [
        "Sort the eigenvectors by their eigenvalues."
      ]
    },
    {
      "cell_type": "code",
      "execution_count": null,
      "metadata": {
        "id": "VahTqffxl4Dm"
      },
      "outputs": [],
      "source": [
        "V, D = eigsort(Vold, eigvals)"
      ]
    },
    {
      "cell_type": "markdown",
      "metadata": {
        "id": "y5a3VGAvI1oO"
      },
      "source": [
        "Multiply the mean-subtracted data by the sorted eigenvectors and then normalize it."
      ]
    },
    {
      "cell_type": "code",
      "execution_count": null,
      "metadata": {
        "id": "871nDgpAl5nC"
      },
      "outputs": [],
      "source": [
        "U = A@V"
      ]
    },
    {
      "cell_type": "code",
      "execution_count": null,
      "metadata": {
        "colab": {
          "base_uri": "https://localhost:8080/"
        },
        "id": "chMGnc9ol7bj",
        "outputId": "5c700cef-061b-4874-cc31-c53056516aa8"
      },
      "outputs": [
        {
          "output_type": "stream",
          "name": "stdout",
          "text": [
            "(784, 400)\n"
          ]
        }
      ],
      "source": [
        "from sklearn.preprocessing import normalize\n",
        "U = normc(U) #Just to ensure that directions we find is unit vector\n",
        "print(U.shape)"
      ]
    },
    {
      "cell_type": "markdown",
      "metadata": {
        "id": "PDOPdbgRJAR_"
      },
      "source": [
        "Calculate the principal components for the 4th image in the training set."
      ]
    },
    {
      "cell_type": "code",
      "execution_count": null,
      "metadata": {
        "id": "8UdnCqXIl9dS"
      },
      "outputs": [],
      "source": [
        "c = U.T.dot(mnist[:,4][:, np.newaxis] - meannum)"
      ]
    },
    {
      "cell_type": "code",
      "execution_count": null,
      "metadata": {
        "colab": {
          "base_uri": "https://localhost:8080/"
        },
        "id": "EGX5vs6Fl_ev",
        "outputId": "26bcb175-0bf6-48d9-923b-723206566633"
      },
      "outputs": [
        {
          "output_type": "execute_result",
          "data": {
            "text/plain": [
              "(400, 1)"
            ]
          },
          "metadata": {},
          "execution_count": 74
        }
      ],
      "source": [
        "c.shape"
      ]
    },
    {
      "cell_type": "code",
      "execution_count": null,
      "metadata": {
        "colab": {
          "base_uri": "https://localhost:8080/",
          "height": 265
        },
        "id": "nWNVVbZQmBKD",
        "outputId": "6b0e5718-7129-45ee-ac79-5205a26b6ea8"
      },
      "outputs": [
        {
          "output_type": "display_data",
          "data": {
            "text/plain": [
              "<Figure size 432x288 with 1 Axes>"
            ],
            "image/png": "[encoded data removed]"
          },
          "metadata": {
            "needs_background": "light"
          }
        }
      ],
      "source": [
        "viewcolumn(U[:, 4])"
      ]
    },
    {
      "cell_type": "markdown",
      "metadata": {
        "id": "1h5Yae8IJFRf"
      },
      "source": [
        "Reconstruct the 4th image using all 400 of the principal components. We have 400 principal components because there are 400 images."
      ]
    },
    {
      "cell_type": "code",
      "execution_count": null,
      "metadata": {
        "colab": {
          "base_uri": "https://localhost:8080/",
          "height": 282
        },
        "id": "U0EPeIt3mC0s",
        "outputId": "9b4f515a-d93c-4466-e972-f689aa82040a"
      },
      "outputs": [
        {
          "output_type": "stream",
          "name": "stdout",
          "text": [
            "(784, 1)\n"
          ]
        },
        {
          "output_type": "display_data",
          "data": {
            "text/plain": [
              "<Figure size 432x288 with 1 Axes>"
            ],
            "image/png": "[encoded data removed]"
          },
          "metadata": {
            "needs_background": "light"
          }
        }
      ],
      "source": [
        "k = 400 #reconstruction using all 400 principal components\n",
        "Zhat = U[:, :k] @ c[:k, :] + meannum\n",
        "print(Zhat.shape)\n",
        "viewcolumn(Zhat)\n",
        "#viewcolumn(mnist[:, 4])"
      ]
    },
    {
      "cell_type": "markdown",
      "metadata": {
        "id": "TjtfqKAGJK8B"
      },
      "source": [
        "Reconstruct with half of the principal components."
      ]
    },
    {
      "cell_type": "code",
      "execution_count": null,
      "metadata": {
        "colab": {
          "base_uri": "https://localhost:8080/",
          "height": 265
        },
        "id": "BKwHyPsLnrXI",
        "outputId": "ac0eb7dc-b570-4b00-e025-a8e56e000cf7"
      },
      "outputs": [
        {
          "output_type": "display_data",
          "data": {
            "text/plain": [
              "<Figure size 432x288 with 1 Axes>"
            ],
            "image/png": "[encoded data removed]"
          },
          "metadata": {
            "needs_background": "light"
          }
        }
      ],
      "source": [
        "k = 200 #reconstruction using 200 principal components\n",
        "Zhat = U[:, :k] @ c[:k, :] + meannum\n",
        "viewcolumn(Zhat)"
      ]
    },
    {
      "cell_type": "markdown",
      "metadata": {
        "id": "YSArmpCiJOCM"
      },
      "source": [
        "Reconstruct with just 10 principal components."
      ]
    },
    {
      "cell_type": "code",
      "execution_count": null,
      "metadata": {
        "colab": {
          "base_uri": "https://localhost:8080/",
          "height": 265
        },
        "id": "4UmAYQ_InwFS",
        "outputId": "35ebc5e8-5297-4438-e177-1c335dfb1c09"
      },
      "outputs": [
        {
          "output_type": "display_data",
          "data": {
            "text/plain": [
              "<Figure size 432x288 with 1 Axes>"
            ],
            "image/png": "[encoded data removed]"
          },
          "metadata": {
            "needs_background": "light"
          }
        }
      ],
      "source": [
        "k = 10 #reconstruction using 10 principal components\n",
        "Zhat = U[:, :k] @ c[:k, :] + meannum\n",
        "viewcolumn(Zhat)"
      ]
    },
    {
      "cell_type": "markdown",
      "metadata": {
        "id": "6OXPSLDNP65P"
      },
      "source": [
        "Reconstructing an image that wasn't in the 400 images used for PCA"
      ]
    },
    {
      "cell_type": "code",
      "execution_count": null,
      "metadata": {
        "colab": {
          "base_uri": "https://localhost:8080/",
          "height": 265
        },
        "id": "MyXDf4x6nx6f",
        "outputId": "3cc56683-9b0b-4b83-d01f-a4a90e506c75"
      },
      "outputs": [
        {
          "output_type": "display_data",
          "data": {
            "text/plain": [
              "<Figure size 432x288 with 1 Axes>"
            ],
            "image/png": "[encoded data removed]"
          },
          "metadata": {
            "needs_background": "light"
          }
        }
      ],
      "source": [
        "viewcolumn(train_set[1000])"
      ]
    },
    {
      "cell_type": "code",
      "execution_count": null,
      "metadata": {
        "id": "hSIWIJaqQThg"
      },
      "outputs": [],
      "source": [
        "c = U.T.dot(train_set[1000,:][:, np.newaxis] - meannum)"
      ]
    },
    {
      "cell_type": "markdown",
      "metadata": {
        "id": "hKcVCWliQyvI"
      },
      "source": [
        "As we can see below, we were able to reconstruct the 1000th image in the dataset fairly well even though it wasn't included in our PCA."
      ]
    },
    {
      "cell_type": "code",
      "execution_count": null,
      "metadata": {
        "colab": {
          "base_uri": "https://localhost:8080/",
          "height": 282
        },
        "id": "B0lJXQ1KQqNM",
        "outputId": "b6395332-dffe-4eec-8297-961c1aa78bcc"
      },
      "outputs": [
        {
          "output_type": "stream",
          "name": "stdout",
          "text": [
            "(784, 1)\n"
          ]
        },
        {
          "output_type": "display_data",
          "data": {
            "text/plain": [
              "<Figure size 432x288 with 1 Axes>"
            ],
            "image/png": "[encoded data removed]"
          },
          "metadata": {
            "needs_background": "light"
          }
        }
      ],
      "source": [
        "k = 400 #reconstruction using all 400 principal components\n",
        "Zhat = U[:, :k] @ c[:k, :] + meannum\n",
        "print(Zhat.shape)\n",
        "viewcolumn(Zhat)\n",
        "#viewcolumn(mnist[:, 4])"
      ]
    },
    {
      "cell_type": "markdown",
      "source": [
        "###PCA with all the data, using the transpose trick"
      ],
      "metadata": {
        "id": "GeCAquvw-0Pu"
      }
    },
    {
      "cell_type": "markdown",
      "source": [
        "First, calculate the mean of the data and don't reshape it so that the dimensions of the mean is 1x784"
      ],
      "metadata": {
        "id": "beUhekevCJWE"
      }
    },
    {
      "cell_type": "code",
      "source": [
        "meanNum = np.mean(train_set, axis = 0, keepdims = True)\n",
        "viewcolumn(meanNum)\n",
        "meanNum.shape"
      ],
      "metadata": {
        "colab": {
          "base_uri": "https://localhost:8080/",
          "height": 282
        },
        "id": "8lZGE0MQPtzM",
        "outputId": "d5e0d7d0-420c-4e95-d410-b7463b6befc2"
      },
      "execution_count": null,
      "outputs": [
        {
          "output_type": "execute_result",
          "data": {
            "text/plain": [
              "(1, 784)"
            ]
          },
          "metadata": {},
          "execution_count": 82
        },
        {
          "output_type": "display_data",
          "data": {
            "text/plain": [
              "<Figure size 432x288 with 1 Axes>"
            ],
            "image/png": "[encoded data removed]"
          },
          "metadata": {
            "needs_background": "light"
          }
        }
      ]
    },
    {
      "cell_type": "markdown",
      "source": [
        "Next, zero mean the data"
      ],
      "metadata": {
        "id": "_ugb_FLDCSa7"
      }
    },
    {
      "cell_type": "code",
      "source": [
        "A = train_set - meanNum\n",
        "print(A.shape)\n",
        "A"
      ],
      "metadata": {
        "colab": {
          "base_uri": "https://localhost:8080/"
        },
        "id": "LRXw_7BST_pZ",
        "outputId": "fa79b611-abdc-4153-e63c-a7930110f8d3"
      },
      "execution_count": null,
      "outputs": [
        {
          "output_type": "stream",
          "name": "stdout",
          "text": [
            "(20000, 784)\n"
          ]
        },
        {
          "output_type": "execute_result",
          "data": {
            "text/plain": [
              "array([[0., 0., 0., ..., 0., 0., 0.],\n",
              "       [0., 0., 0., ..., 0., 0., 0.],\n",
              "       [0., 0., 0., ..., 0., 0., 0.],\n",
              "       ...,\n",
              "       [0., 0., 0., ..., 0., 0., 0.],\n",
              "       [0., 0., 0., ..., 0., 0., 0.],\n",
              "       [0., 0., 0., ..., 0., 0., 0.]])"
            ]
          },
          "metadata": {},
          "execution_count": 83
        }
      ]
    },
    {
      "cell_type": "markdown",
      "source": [
        "Use the transpose trick to calculate the covariance matrix of the data and find its eigenvectors. Transpose trick: instead of computing A\\*A(T) which would be 20,000x20,000, compute A(T)\\*A which is 784x784"
      ],
      "metadata": {
        "id": "ARJGaHL6CemM"
      }
    },
    {
      "cell_type": "code",
      "source": [
        "eigvals, Vold = np.linalg.eig(A.T.dot(A))"
      ],
      "metadata": {
        "id": "9uP8CAoJUL-A"
      },
      "execution_count": null,
      "outputs": []
    },
    {
      "cell_type": "markdown",
      "source": [
        "Then sort the eigenvectors in order of their eigenvalue"
      ],
      "metadata": {
        "id": "yXnj8XCNDAZl"
      }
    },
    {
      "cell_type": "code",
      "source": [
        "V, D = eigsort(Vold, eigvals)\n",
        "print(\"Matrix of V\\n\", V)\n"
      ],
      "metadata": {
        "colab": {
          "base_uri": "https://localhost:8080/"
        },
        "id": "1Vo-ExXvUSdX",
        "outputId": "b2224bc6-f3b6-4906-9a9e-4f0075925dc2"
      },
      "execution_count": null,
      "outputs": [
        {
          "output_type": "stream",
          "name": "stdout",
          "text": [
            "Matrix of V\n",
            " [[0. 0. 0. ... 0. 0. 0.]\n",
            " [0. 0. 0. ... 0. 0. 0.]\n",
            " [0. 0. 0. ... 0. 0. 0.]\n",
            " ...\n",
            " [0. 0. 0. ... 0. 0. 0.]\n",
            " [0. 0. 0. ... 0. 0. 0.]\n",
            " [0. 0. 0. ... 0. 0. 1.]]\n"
          ]
        }
      ]
    },
    {
      "cell_type": "markdown",
      "source": [
        "Computer U by multiplying the zero-meaned data by the sorted eigenvectors."
      ],
      "metadata": {
        "id": "HpME6oW0DMhb"
      }
    },
    {
      "cell_type": "code",
      "source": [
        "U = A@V\n",
        "U\n",
        "U.shape"
      ],
      "metadata": {
        "colab": {
          "base_uri": "https://localhost:8080/"
        },
        "id": "BokkYRA3Ucjm",
        "outputId": "83323276-7d3a-4c45-c922-bcc56b877d46"
      },
      "execution_count": null,
      "outputs": [
        {
          "output_type": "execute_result",
          "data": {
            "text/plain": [
              "(20000, 784)"
            ]
          },
          "metadata": {},
          "execution_count": 86
        }
      ]
    },
    {
      "cell_type": "markdown",
      "source": [
        "Normalize U"
      ],
      "metadata": {
        "id": "Sy1SeNxuDl8i"
      }
    },
    {
      "cell_type": "code",
      "source": [
        "U = normc(U)\n",
        "U"
      ],
      "metadata": {
        "colab": {
          "base_uri": "https://localhost:8080/"
        },
        "id": "gNXfAKxKUdws",
        "outputId": "dc152bcc-cf41-4454-980c-2de3d459fe26"
      },
      "execution_count": null,
      "outputs": [
        {
          "output_type": "execute_result",
          "data": {
            "text/plain": [
              "array([[-1.45183380e-03,  4.44940032e-03, -7.46018124e-04, ...,\n",
              "         0.00000000e+00,  0.00000000e+00,  0.00000000e+00],\n",
              "       [-1.33388736e-02,  4.87426478e-03, -8.45184218e-03, ...,\n",
              "         0.00000000e+00,  0.00000000e+00,  0.00000000e+00],\n",
              "       [-5.14749449e-05, -5.47140256e-03,  4.79369288e-03, ...,\n",
              "         0.00000000e+00,  0.00000000e+00,  0.00000000e+00],\n",
              "       ...,\n",
              "       [ 7.93191132e-03,  1.49839393e-03,  4.52473534e-03, ...,\n",
              "         0.00000000e+00,  0.00000000e+00,  0.00000000e+00],\n",
              "       [ 4.95560210e-03, -2.51887265e-03, -1.33545578e-03, ...,\n",
              "         0.00000000e+00,  0.00000000e+00,  0.00000000e+00],\n",
              "       [ 4.59033623e-03,  9.15622322e-03, -9.34249058e-04, ...,\n",
              "         0.00000000e+00,  0.00000000e+00,  0.00000000e+00]])"
            ]
          },
          "metadata": {},
          "execution_count": 87
        }
      ]
    },
    {
      "cell_type": "markdown",
      "source": [
        "Reconstruct the 4th image in the training set by calculating the principal components."
      ],
      "metadata": {
        "id": "dwQmELGbDrwm"
      }
    },
    {
      "cell_type": "code",
      "source": [
        "viewcolumn(U[4,:])\n",
        "U_reshape = U.reshape(U.shape[1],-1)\n",
        "train_reshape = train_set[4:5,:].reshape(train_set[4:5,:].shape[1],-1)\n",
        "mean_reshape = meanNum.reshape(meanNum.shape[1],-1)\n",
        "c = U_reshape.T.dot(train_reshape[:,0] - mean_reshape[:,0])"
      ],
      "metadata": {
        "colab": {
          "base_uri": "https://localhost:8080/",
          "height": 265
        },
        "id": "jXk4hPs_UflB",
        "outputId": "799f34d7-9936-4f41-bd98-be0297d391f6"
      },
      "execution_count": null,
      "outputs": [
        {
          "output_type": "display_data",
          "data": {
            "text/plain": [
              "<Figure size 432x288 with 1 Axes>"
            ],
            "image/png": "[encoded data removed]"
          },
          "metadata": {
            "needs_background": "light"
          }
        }
      ]
    },
    {
      "cell_type": "markdown",
      "source": [
        "Original 4th image:"
      ],
      "metadata": {
        "id": "muUAdbC9D4qw"
      }
    },
    {
      "cell_type": "code",
      "source": [
        "viewcolumn(train_set[4])"
      ],
      "metadata": {
        "colab": {
          "base_uri": "https://localhost:8080/",
          "height": 265
        },
        "id": "z8bsg8x7jkEf",
        "outputId": "271e3029-ddb0-44a8-eb9c-383be2ceb413"
      },
      "execution_count": null,
      "outputs": [
        {
          "output_type": "display_data",
          "data": {
            "text/plain": [
              "<Figure size 432x288 with 1 Axes>"
            ],
            "image/png": "[encoded data removed]"
          },
          "metadata": {
            "needs_background": "light"
          }
        }
      ]
    },
    {
      "cell_type": "markdown",
      "source": [
        "Reconstructed 4th image using all 20,000 principal components:"
      ],
      "metadata": {
        "id": "FEnVgDGZD6P7"
      }
    },
    {
      "cell_type": "code",
      "source": [
        "k=20000\n",
        "Zhat = U_reshape[:, :k] @ c[:k] + meanNum\n",
        "viewcolumn(Zhat)"
      ],
      "metadata": {
        "colab": {
          "base_uri": "https://localhost:8080/",
          "height": 265
        },
        "id": "l9nS0rIeiniw",
        "outputId": "8ba86a41-41c7-4b3e-8c38-e47ec03d797f"
      },
      "execution_count": null,
      "outputs": [
        {
          "output_type": "display_data",
          "data": {
            "text/plain": [
              "<Figure size 432x288 with 1 Axes>"
            ],
            "image/png": "[encoded data removed]"
          },
          "metadata": {
            "needs_background": "light"
          }
        }
      ]
    },
    {
      "cell_type": "markdown",
      "source": [
        "Using 10,000 principal components:"
      ],
      "metadata": {
        "id": "NM4SP-X3D-NF"
      }
    },
    {
      "cell_type": "code",
      "source": [
        "k=10000\n",
        "Zhat = U_reshape[:, :k] @ c[:k] + meanNum\n",
        "viewcolumn(Zhat)"
      ],
      "metadata": {
        "id": "XDuh5b0zk03Z",
        "colab": {
          "base_uri": "https://localhost:8080/",
          "height": 265
        },
        "outputId": "070af2c3-62a2-47f2-8f8d-2281912d707f"
      },
      "execution_count": null,
      "outputs": [
        {
          "output_type": "display_data",
          "data": {
            "text/plain": [
              "<Figure size 432x288 with 1 Axes>"
            ],
            "image/png": "[encoded data removed]"
          },
          "metadata": {
            "needs_background": "light"
          }
        }
      ]
    },
    {
      "cell_type": "markdown",
      "source": [
        "Using just 1,000"
      ],
      "metadata": {
        "id": "Oeu87EWxEAD2"
      }
    },
    {
      "cell_type": "code",
      "source": [
        "k=1000\n",
        "Zhat = U_reshape[:, :k] @ c[:k] + meanNum\n",
        "viewcolumn(Zhat)"
      ],
      "metadata": {
        "colab": {
          "base_uri": "https://localhost:8080/",
          "height": 265
        },
        "id": "0Rbcabx29aMt",
        "outputId": "58b6123e-5f2f-4683-9c78-4f0cbba68dbd"
      },
      "execution_count": null,
      "outputs": [
        {
          "output_type": "display_data",
          "data": {
            "text/plain": [
              "<Figure size 432x288 with 1 Axes>"
            ],
            "image/png": "[encoded data removed]"
          },
          "metadata": {
            "needs_background": "light"
          }
        }
      ]
    }
  ],
  "metadata": {
    "colab": {
      "provenance": [],
      "collapsed_sections": [
        "KvsRwrZfLR-Z"
      ]
    },
    "kernelspec": {
      "display_name": "Python 3",
      "name": "python3"
    },
    "language_info": {
      "name": "python"
    }
  },
  "nbformat": 4,
  "nbformat_minor": 0
}